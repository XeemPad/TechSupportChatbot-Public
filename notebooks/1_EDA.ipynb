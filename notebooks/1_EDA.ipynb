{
 "cells": [
  {
   "cell_type": "markdown",
   "id": "2745408c",
   "metadata": {},
   "source": [
    "Импорт библиотек"
   ]
  },
  {
   "cell_type": "code",
   "execution_count": 14,
   "id": "cd797544",
   "metadata": {},
   "outputs": [],
   "source": [
    "import pandas as pd\n",
    "import numpy as np\n",
    "\n",
    "from pathlib import Path"
   ]
  },
  {
   "cell_type": "markdown",
   "id": "5b9a6921",
   "metadata": {},
   "source": [
    "## Загрузка данных"
   ]
  },
  {
   "cell_type": "code",
   "execution_count": 15,
   "id": "43846b0b",
   "metadata": {},
   "outputs": [],
   "source": [
    "data_dir = Path('../data')\n",
    "\n",
    "qa_df = pd.read_excel(data_dir / 'QA_pairs.xlsx')\n",
    "_kb_dict = pd.read_excel(data_dir / 'knowledge_base.xlsx', \n",
    "                                  sheet_name=['Knowledge_base', 'Sources'])\n",
    "kb_df, kb_info_df = _kb_dict['Knowledge_base'], _kb_dict['Sources']"
   ]
  },
  {
   "cell_type": "markdown",
   "id": "f93c89b0",
   "metadata": {},
   "source": [
    "# Анализ"
   ]
  },
  {
   "cell_type": "markdown",
   "id": "a3b19a43",
   "metadata": {},
   "source": [
    "## Базовый"
   ]
  },
  {
   "cell_type": "code",
   "execution_count": 16,
   "id": "c801cd37",
   "metadata": {},
   "outputs": [
    {
     "name": "stdout",
     "output_type": "stream",
     "text": [
      "'QA pairs' shape: (5932, 3)\n",
      "'Knowledge base' shape: (933, 4)\n",
      "\n",
      "'QA pairs' columns: ['id', 'question', 'answer']\n",
      "'Knowledge base' columns: ['id', 'chunk', 'document_id', 'part_id']\n",
      "'Knowledge base.Sources' columns: ['document_id', 'title']\n"
     ]
    }
   ],
   "source": [
    "print(\"'QA pairs' shape:\", qa_df.shape)\n",
    "print(\"'Knowledge base' shape:\", kb_df.shape)\n",
    "print(\"\\n'QA pairs' columns:\", qa_df.columns.tolist())\n",
    "print(\"'Knowledge base' columns:\", kb_df.columns.tolist())\n",
    "print(\"'Knowledge base.Sources' columns:\", kb_info_df.columns.tolist())"
   ]
  },
  {
   "cell_type": "markdown",
   "id": "0dbe0a84",
   "metadata": {},
   "source": [
    "Типы источников в базе знаний"
   ]
  },
  {
   "cell_type": "code",
   "execution_count": null,
   "id": "2eea3f04",
   "metadata": {},
   "outputs": [],
   "source": [
    "kb_info_df.sort_values('document_id')"
   ]
  },
  {
   "cell_type": "markdown",
   "id": "6278244e",
   "metadata": {},
   "source": [
    "Статистика длин текстов"
   ]
  },
  {
   "cell_type": "code",
   "execution_count": 18,
   "id": "0562926c",
   "metadata": {},
   "outputs": [
    {
     "name": "stdout",
     "output_type": "stream",
     "text": [
      "Average question len: 42.491065407956846\n",
      "Average answer len: 218.49983142279163\n"
     ]
    }
   ],
   "source": [
    "\n",
    "print(\"Average question len:\", qa_df['question'].str.len().mean())\n",
    "print(\"Average answer len:\", qa_df['answer'].str.len().mean())"
   ]
  },
  {
   "cell_type": "markdown",
   "id": "32e90532",
   "metadata": {},
   "source": [
    "### Количество документов"
   ]
  },
  {
   "cell_type": "code",
   "execution_count": 19,
   "id": "4b0910c6",
   "metadata": {},
   "outputs": [
    {
     "name": "stdout",
     "output_type": "stream",
     "text": [
      "Количество документов: 11\n",
      "Количество пунктов (чанков) из всех документов: 145\n"
     ]
    }
   ],
   "source": [
    "mask = (\n",
    "    pd.notna(kb_df['part_id'])\n",
    "    & kb_df['document_id'] != 13  # вопросы-ответы\n",
    ")\n",
    "\n",
    "docs = kb_df[mask]\n",
    "docs = docs.groupby(['document_id', 'part_id']).aggregate({'chunk': lambda x: '\\n'.join(list(x))})\n",
    "print(\"Количество документов:\", len(kb_df['document_id'].unique()))\n",
    "print(\"Количество пунктов (чанков) из всех документов:\", len(docs)) "
   ]
  },
  {
   "cell_type": "markdown",
   "id": "0e452898",
   "metadata": {},
   "source": [
    "### Количество эталонных вопросов-ответов"
   ]
  },
  {
   "cell_type": "code",
   "execution_count": null,
   "id": "f9d1cce3",
   "metadata": {},
   "outputs": [],
   "source": [
    "mask = kb_df['document_id'] == 13\n",
    "\n",
    "qas = kb_df[mask]\n",
    "print(\"Количество эталонных вопросов-ответов:\", len(qas))\n",
    "qas.head()"
   ]
  },
  {
   "cell_type": "markdown",
   "id": "8a7d56f1",
   "metadata": {},
   "source": [
    "## Примеры текстов"
   ]
  },
  {
   "cell_type": "code",
   "execution_count": null,
   "id": "facc0057",
   "metadata": {},
   "outputs": [],
   "source": [
    "# Статистика по категориям\n",
    "for doc_id in kb_info_df['document_id'].sort_values():\n",
    "    print(f\"Document ID: {doc_id}. Source: {kb_info_df[kb_info_df.document_id == doc_id]['title'].values[0]}\")\n",
    "    doc_df = kb_df[kb_df.document_id.astype(int) == doc_id]\n",
    "    print(doc_df['chunk'].head(5).values)\n",
    "    print()"
   ]
  }
 ],
 "metadata": {
  "kernelspec": {
   "display_name": "task 2. techsupportchatbot-3.13 (3.13.3)",
   "language": "python",
   "name": "python3"
  },
  "language_info": {
   "codemirror_mode": {
    "name": "ipython",
    "version": 3
   },
   "file_extension": ".py",
   "mimetype": "text/x-python",
   "name": "python",
   "nbconvert_exporter": "python",
   "pygments_lexer": "ipython3",
   "version": "3.13.3"
  }
 },
 "nbformat": 4,
 "nbformat_minor": 5
}
