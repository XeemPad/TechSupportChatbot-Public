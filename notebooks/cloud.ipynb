{
 "cells": [
  {
   "cell_type": "markdown",
   "id": "7dd7d7b8",
   "metadata": {},
   "source": [
    "**Ноутбук, используемый для запуска на Yandex.DataSphere интерфейса инференса моделей**"
   ]
  },
  {
   "cell_type": "code",
   "execution_count": 1,
   "id": "8813353d-16e5-4c1f-8732-82ebd038679e",
   "metadata": {
    "execution": {
     "iopub.execute_input": "2025-07-03T21:17:13.615210Z",
     "iopub.status.busy": "2025-07-03T21:17:13.614406Z",
     "iopub.status.idle": "2025-07-03T21:17:13.657711Z",
     "shell.execute_reply": "2025-07-03T21:17:13.656853Z",
     "shell.execute_reply.started": "2025-07-03T21:17:13.615156Z"
    },
    "tags": []
   },
   "outputs": [],
   "source": [
    "import sys  # Дополнение path \n",
    "sys.path.append('/home/jupyter/datasphere/project/TechSupportChatbot/')  # папка проекта\n",
    "sys.path.append('/home/jupyter/.local/bin/')  # pip предолжил добавить это в PATH"
   ]
  },
  {
   "cell_type": "code",
   "execution_count": null,
   "id": "7177d5bc-c2bb-4ab7-abe6-5526b05661a1",
   "metadata": {
    "tags": []
   },
   "outputs": [],
   "source": [
    "# faiss-gpu-cu12\n",
    "%pip install torch==2.7.1 sentence-transformers sentencepiece faiss-gpu-cu12 gradio rouge nltk transformers accelerate bitsandbytes peft"
   ]
  },
  {
   "cell_type": "code",
   "execution_count": null,
   "id": "96e28947-bcae-4d2b-af50-d44dfc336562",
   "metadata": {
    "tags": []
   },
   "outputs": [],
   "source": [
    "from gradio_app import create_interface"
   ]
  },
  {
   "cell_type": "code",
   "execution_count": null,
   "id": "3ac84e2e-d2ef-46f7-ade3-4d7f91bd9493",
   "metadata": {
    "tags": []
   },
   "outputs": [],
   "source": [
    "from pathlib import Path\n",
    "work_dir = Path('/home/jupyter/datasphere/project/TechSupportChatbot/')"
   ]
  },
  {
   "cell_type": "code",
   "execution_count": null,
   "id": "184767b4-b298-4798-ba00-aff03ffb1040",
   "metadata": {
    "tags": []
   },
   "outputs": [],
   "source": [
    "app, system_interface = create_interface(work_dir=work_dir)\n",
    "app.launch(\n",
    "    server_name=\"0.0.0.0\",  # Доступ извне\n",
    "    server_port=7777,\n",
    "    share=True,  # Публичная ссылка\n",
    "    show_error=True,\n",
    "    debug=True\n",
    ")"
   ]
  },
  {
   "cell_type": "code",
   "execution_count": null,
   "id": "9d3a7027-22ca-43c4-9d4c-8cbf37aec876",
   "metadata": {},
   "outputs": [],
   "source": []
  }
 ],
 "metadata": {
  "kernelspec": {
   "display_name": "DataSphere Kernel",
   "language": "python",
   "name": "python3"
  },
  "language_info": {
   "codemirror_mode": {
    "name": "ipython",
    "version": 3
   },
   "file_extension": ".py",
   "mimetype": "text/x-python",
   "name": "python",
   "nbconvert_exporter": "python",
   "pygments_lexer": "ipython3",
   "version": "3.10.12"
  }
 },
 "nbformat": 4,
 "nbformat_minor": 5
}
